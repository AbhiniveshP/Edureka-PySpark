{
 "cells": [
  {
   "cell_type": "markdown",
   "metadata": {},
   "source": [
    "### Question 1"
   ]
  },
  {
   "cell_type": "code",
   "execution_count": 5,
   "metadata": {},
   "outputs": [
    {
     "name": "stdout",
     "output_type": "stream",
     "text": [
      "4\n",
      "Answer:4 as nums will contain {1, 2, 3, 4}\n"
     ]
    }
   ],
   "source": [
    "nums =set([1,1,2,3,3,3,4,4])\n",
    "print(len(nums))\n",
    "print('Answer:4 as nums will contain {1, 2, 3, 4}')"
   ]
  },
  {
   "cell_type": "markdown",
   "metadata": {},
   "source": [
    "### Question 2"
   ]
  },
  {
   "cell_type": "code",
   "execution_count": 6,
   "metadata": {},
   "outputs": [
    {
     "name": "stdout",
     "output_type": "stream",
     "text": [
      "['john', 'peter']\n"
     ]
    }
   ],
   "source": [
    "d ={\"john\":40, \"peter\":45}\n",
    "print(list(d.keys()))"
   ]
  },
  {
   "cell_type": "markdown",
   "metadata": {},
   "source": [
    "d.keys() will be 'john' and 'peter'. Converting that to list would give ['john', 'peter']"
   ]
  },
  {
   "cell_type": "markdown",
   "metadata": {},
   "source": [
    "### Question 3"
   ]
  },
  {
   "cell_type": "code",
   "execution_count": 7,
   "metadata": {
    "collapsed": true
   },
   "outputs": [],
   "source": [
    "def checkPassword(username, password):\n",
    "    \n",
    "    cond_1 = False\n",
    "    cond_2 = False\n",
    "    cond_3 = False\n",
    "    cond_4 = False\n",
    "    cond_5 = ( len(password) >= 6 and len(password) <= 12 )  # check the length conditions\n",
    "    \n",
    "    for eachChar in password:\n",
    "        \n",
    "        #  check if any char is a digit\n",
    "        if ( ord(eachChar) >= 48 and ord(eachChar) <= 57 ):\n",
    "            cond_2 = True\n",
    "        \n",
    "        # check if any char is in [A - Z]\n",
    "        if ( ord(eachChar) >= 65 and ord(eachChar) <= 90 ):\n",
    "            cond_3 = True\n",
    "            \n",
    "        # check if any char is in [a - z]\n",
    "        if ( ord(eachChar) >= 97 and ord(eachChar) <= 122 ):\n",
    "            cond_1 = True\n",
    "        \n",
    "        # check if any char is in [$#@]\n",
    "        if (eachChar in ['$', '#', '@']):\n",
    "            cond_4 = True\n",
    "            \n",
    "    return ( cond_1 and cond_2 and cond_3 and cond_4 and cond_5 )"
   ]
  },
  {
   "cell_type": "code",
   "execution_count": 16,
   "metadata": {},
   "outputs": [
    {
     "name": "stdout",
     "output_type": "stream",
     "text": [
      "Enter your username: Abhinivesh\n",
      "Enter your password: AbhiXYZ@1234\n"
     ]
    }
   ],
   "source": [
    "username = raw_input('Enter your username: ')\n",
    "password = raw_input('Enter your password: ')"
   ]
  },
  {
   "cell_type": "code",
   "execution_count": 18,
   "metadata": {},
   "outputs": [
    {
     "name": "stdout",
     "output_type": "stream",
     "text": [
      "VALID PASSWORD ENTERED !!!\n"
     ]
    }
   ],
   "source": [
    "if (checkPassword(username, password) ):\n",
    "    print('VALID PASSWORD ENTERED !!!')\n",
    "else:\n",
    "    print(\"INVALID PASSWORD ENTERED. PLEASE ENTER AGAIN !!!\")"
   ]
  },
  {
   "cell_type": "markdown",
   "metadata": {},
   "source": [
    "### Question 4"
   ]
  },
  {
   "cell_type": "code",
   "execution_count": 19,
   "metadata": {},
   "outputs": [
    {
     "name": "stdout",
     "output_type": "stream",
     "text": [
      "Element: 4 and its Index: 0\n",
      "Element: 7 and its Index: 1\n",
      "Element: 3 and its Index: 2\n",
      "Element: 2 and its Index: 3\n",
      "Element: 5 and its Index: 4\n",
      "Element: 9 and its Index: 5\n"
     ]
    }
   ],
   "source": [
    "a = [4,7,3,2,5,9]\n",
    "\n",
    "for i in range(len(a)):\n",
    "    print('Element: ' + str(a[i]) + ' and its Index: ' + str(i))"
   ]
  },
  {
   "cell_type": "markdown",
   "metadata": {},
   "source": [
    "### Question 5"
   ]
  },
  {
   "cell_type": "code",
   "execution_count": 20,
   "metadata": {},
   "outputs": [
    {
     "name": "stdout",
     "output_type": "stream",
     "text": [
      "Please enter a string: H1e2l3l4o5w6o7r8l9d\n",
      "Even Indices: Helloworld\n"
     ]
    }
   ],
   "source": [
    "even_indexed_string = raw_input('Please enter a string: ')\n",
    "print('Even Indices: ' + even_indexed_string[::2])"
   ]
  },
  {
   "cell_type": "markdown",
   "metadata": {},
   "source": [
    "### Question 6"
   ]
  },
  {
   "cell_type": "code",
   "execution_count": 21,
   "metadata": {},
   "outputs": [
    {
     "name": "stdout",
     "output_type": "stream",
     "text": [
      "Please enter a string: rise to vote sir\n",
      "Reversed String: ris etov ot esir\n"
     ]
    }
   ],
   "source": [
    "reversed_string = raw_input('Please enter a string: ')\n",
    "print('Reversed String: ' + reversed_string[::-1])"
   ]
  },
  {
   "cell_type": "markdown",
   "metadata": {},
   "source": [
    "### Question 7"
   ]
  },
  {
   "cell_type": "code",
   "execution_count": 24,
   "metadata": {},
   "outputs": [
    {
     "name": "stdout",
     "output_type": "stream",
     "text": [
      "Please enter a string: abcdefgabc\n",
      "a,2\n",
      "c,2\n",
      "b,2\n",
      "e,1\n",
      "d,1\n",
      "g,1\n",
      "f,1\n"
     ]
    }
   ],
   "source": [
    "char_counter = raw_input('Please enter a string: ')\n",
    "\n",
    "counter_dict = {}\n",
    "\n",
    "for char in char_counter:\n",
    "    if char in counter_dict:\n",
    "        counter_dict[char] += 1\n",
    "    else:\n",
    "        counter_dict[char] = 1\n",
    "        \n",
    "for key in counter_dict.keys():\n",
    "    print(key + ',' + str(counter_dict[key]) )"
   ]
  },
  {
   "cell_type": "markdown",
   "metadata": {},
   "source": [
    "### Question 8"
   ]
  },
  {
   "cell_type": "code",
   "execution_count": 28,
   "metadata": {},
   "outputs": [
    {
     "name": "stdout",
     "output_type": "stream",
     "text": [
      "[35]\n"
     ]
    }
   ],
   "source": [
    "list_A = [1,3,6,78,35,55]\n",
    "list_B = [12,24,35,24,88,120,155]\n",
    "\n",
    "set_A = set(list_A)\n",
    "set_B = set(list_B)\n",
    "\n",
    "intersection_list = list(set_A.intersection(set_B))\n",
    "print(intersection_list)"
   ]
  },
  {
   "cell_type": "markdown",
   "metadata": {},
   "source": [
    "### Question 9"
   ]
  },
  {
   "cell_type": "code",
   "execution_count": 31,
   "metadata": {},
   "outputs": [
    {
     "name": "stdout",
     "output_type": "stream",
     "text": [
      "[12, 24, 35, 88, 120, 155]\n"
     ]
    }
   ],
   "source": [
    "duplicates = [12,24,35,24,88,120,155,88,120,155]\n",
    "duplicates_set = set()\n",
    "duplicates_removed = []\n",
    "\n",
    "for num in duplicates:\n",
    "    \n",
    "    # if number not occurred => add it to list and set both \n",
    "    if (num not in duplicates_set):\n",
    "        duplicates_removed.append(num)\n",
    "        duplicates_set.add(num)\n",
    "        \n",
    "print(duplicates_removed)"
   ]
  },
  {
   "cell_type": "markdown",
   "metadata": {},
   "source": [
    "### Question 10"
   ]
  },
  {
   "cell_type": "code",
   "execution_count": 32,
   "metadata": {},
   "outputs": [
    {
     "name": "stdout",
     "output_type": "stream",
     "text": [
      "[12, 35, 88, 120, 155]\n"
     ]
    }
   ],
   "source": [
    "with_24 = [12,24,35,24,88,120,155]\n",
    "\n",
    "non_24 = [number for number in with_24 if number != 24]\n",
    "\n",
    "print(non_24)"
   ]
  },
  {
   "cell_type": "markdown",
   "metadata": {},
   "source": [
    "### Question 11"
   ]
  },
  {
   "cell_type": "code",
   "execution_count": 33,
   "metadata": {},
   "outputs": [
    {
     "name": "stdout",
     "output_type": "stream",
     "text": [
      "[24, 35, 70, 155]\n"
     ]
    }
   ],
   "source": [
    "all_indices = [12,24,35,70,88,120,155]\n",
    "\n",
    "remove_few_indices = [all_indices[i] for i in range(len(all_indices)) if i != 0 and i != 4 and i != 5]\n",
    "\n",
    "print(remove_few_indices)"
   ]
  },
  {
   "cell_type": "markdown",
   "metadata": {},
   "source": [
    "### Question 12"
   ]
  },
  {
   "cell_type": "code",
   "execution_count": 36,
   "metadata": {},
   "outputs": [
    {
     "name": "stdout",
     "output_type": "stream",
     "text": [
      "[12, 24, 88]\n"
     ]
    }
   ],
   "source": [
    "all_divisible = [12,24,35,70,88,120,155]\n",
    "\n",
    "non_divisible_57 = [number for number in all_divisible if number % 5 != 0 and number % 7 != 0]\n",
    "\n",
    "print(non_divisible_57)"
   ]
  },
  {
   "cell_type": "markdown",
   "metadata": {},
   "source": [
    "### Question 13"
   ]
  },
  {
   "cell_type": "code",
   "execution_count": 38,
   "metadata": {},
   "outputs": [
    {
     "name": "stdout",
     "output_type": "stream",
     "text": [
      "[875, 700, 980, 350, 210]\n"
     ]
    }
   ],
   "source": [
    "import random\n",
    "\n",
    "random_5 = []\n",
    "\n",
    "while(True):\n",
    "    \n",
    "    number = random.randint(1, 1000)\n",
    "    \n",
    "    if (number % 5 == 0 and number % 7 == 0 and number not in random_5):\n",
    "        random_5.append(number)\n",
    "        \n",
    "    if (len(random_5) == 5):\n",
    "        break\n",
    "        \n",
    "print(random_5)"
   ]
  },
  {
   "cell_type": "markdown",
   "metadata": {},
   "source": [
    "### Question 14"
   ]
  },
  {
   "cell_type": "code",
   "execution_count": 46,
   "metadata": {},
   "outputs": [
    {
     "name": "stdout",
     "output_type": "stream",
     "text": [
      "Enter a value for n: 5\n",
      "3.55\n"
     ]
    }
   ],
   "source": [
    "n = int(raw_input('Enter a value for n: '))\n",
    "\n",
    "sequence_sum = 0\n",
    "\n",
    "for i in range(1, n + 1):\n",
    "    sequence_sum += ( float(i) / (i + 1) )\n",
    "    \n",
    "print(sequence_sum)"
   ]
  }
 ],
 "metadata": {
  "kernelspec": {
   "display_name": "PySpark",
   "language": "python",
   "name": "pyspark"
  },
  "language_info": {
   "codemirror_mode": {
    "name": "ipython",
    "version": 2
   },
   "file_extension": ".py",
   "mimetype": "text/x-python",
   "name": "python",
   "nbconvert_exporter": "python",
   "pygments_lexer": "ipython2",
   "version": "2.7.14"
  }
 },
 "nbformat": 4,
 "nbformat_minor": 2
}
