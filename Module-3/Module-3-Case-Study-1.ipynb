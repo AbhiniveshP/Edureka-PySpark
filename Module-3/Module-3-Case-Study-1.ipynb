{
 "cells": [
  {
   "cell_type": "markdown",
   "metadata": {},
   "source": [
    "### Question 1"
   ]
  },
  {
   "cell_type": "markdown",
   "metadata": {},
   "source": [
    "We assume the directions to be UP, DOWN, LEFT and RIGHT; and stop giving the instructions when STOP is called.\n",
    "We also assume the starting point (x, y) = (0, 0) and modify the x and y according to the instruction provided."
   ]
  },
  {
   "cell_type": "code",
   "execution_count": 5,
   "metadata": {
    "collapsed": true
   },
   "outputs": [],
   "source": [
    "instructions = [\"UP\", \"DOWN\", \"LEFT\", \"RIGHT\", \"STOP\"]\n",
    "\n",
    "def computeXY(instructions):\n",
    "    \n",
    "    finalXY = [0, 0]\n",
    "    while (True):\n",
    "        \n",
    "        # take the complete instruction as str, split it and convert the steps from str to int\n",
    "        instruction = input('Enter your next instruction: ')\n",
    "        [direction, steps] = instruction.split()\n",
    "        steps = int(steps)\n",
    "        \n",
    "        # stop if you don't see any appropriate instruction\n",
    "        if (direction == \"STOP\" or direction not in instructions):\n",
    "            return finalXY\n",
    "        \n",
    "        # perform the following computation\n",
    "        \n",
    "        elif (direction == \"UP\"):\n",
    "            finalXY[1] += steps\n",
    "        \n",
    "        elif (direction == \"DOWN\"):\n",
    "            finalXY[1] -= steps\n",
    "            \n",
    "        elif (direction == \"LEFT\"):\n",
    "            finalXY[0] -= steps\n",
    "            \n",
    "        elif (direction == \"RIGHT\"):\n",
    "            finalXY[0] += steps\n",
    "            \n",
    "    return finalXY"
   ]
  },
  {
   "cell_type": "code",
   "execution_count": 3,
   "metadata": {},
   "outputs": [
    {
     "name": "stdout",
     "output_type": "stream",
     "text": [
      "Enter your next instruction: UP 3\n",
      "Enter your next instruction: DOWN 5\n",
      "Enter your next instruction: LEFT 2\n",
      "Enter your next instruction: RIGHT 4\n",
      "Enter your next instruction: UP 6\n",
      "Enter your next instruction: STOP -1\n"
     ]
    }
   ],
   "source": [
    "[x, y] = computeXY(instructions)"
   ]
  },
  {
   "cell_type": "code",
   "execution_count": 4,
   "metadata": {},
   "outputs": [
    {
     "name": "stdout",
     "output_type": "stream",
     "text": [
      "2 4\n"
     ]
    }
   ],
   "source": [
    "print(x, y)"
   ]
  },
  {
   "cell_type": "markdown",
   "metadata": {},
   "source": [
    "### Question 2"
   ]
  },
  {
   "cell_type": "markdown",
   "metadata": {},
   "source": [
    "Here, I assume company's data to be a list or a sequence of integers which are sorted.\n",
    "I can solve it using either a normal linear scan or using a binary search.\n",
    "I'll perform both for your reference."
   ]
  },
  {
   "cell_type": "code",
   "execution_count": 6,
   "metadata": {
    "collapsed": true
   },
   "outputs": [],
   "source": [
    "def linearSearch(sortedList, targetValue):\n",
    "    \n",
    "    for number in sortedList:\n",
    "        \n",
    "        if (number == targetValue):\n",
    "            return True\n",
    "    \n",
    "    return False\n",
    "\n",
    "def binarySearch(sortedList, targetValue):\n",
    "    \n",
    "    low = 0\n",
    "    high = len(sortedList) - 1\n",
    "    \n",
    "    while (low <= high):\n",
    "        \n",
    "        mid = (low + high) // 2\n",
    "        \n",
    "        if (targetValue == sortedList[mid]):\n",
    "            return True\n",
    "        \n",
    "        elif (targetValue < sortedList[mid]):\n",
    "            high = mid - 1\n",
    "            \n",
    "        else:\n",
    "            low = mid + 1\n",
    "            \n",
    "    return False"
   ]
  },
  {
   "cell_type": "code",
   "execution_count": 7,
   "metadata": {},
   "outputs": [
    {
     "name": "stdout",
     "output_type": "stream",
     "text": [
      "True\n",
      "True\n"
     ]
    }
   ],
   "source": [
    "print(linearSearch([2, 3, 5, 6, 8, 10, 12], 8))\n",
    "print(binarySearch([2, 3, 5, 6, 8, 10, 12], 8))"
   ]
  },
  {
   "cell_type": "code",
   "execution_count": 8,
   "metadata": {},
   "outputs": [
    {
     "name": "stdout",
     "output_type": "stream",
     "text": [
      "False\n",
      "False\n"
     ]
    }
   ],
   "source": [
    "print(linearSearch([2, 3, 5, 6, 8, 10, 12], 15))\n",
    "print(binarySearch([2, 3, 5, 6, 8, 10, 12], 15))"
   ]
  },
  {
   "cell_type": "markdown",
   "metadata": {},
   "source": [
    "### Question 3"
   ]
  },
  {
   "cell_type": "markdown",
   "metadata": {},
   "source": [
    "I retrieve time using localtime() and assume day to be between 6 AM and 6 PM; rest to be dark (night)."
   ]
  },
  {
   "cell_type": "code",
   "execution_count": 14,
   "metadata": {
    "collapsed": true
   },
   "outputs": [],
   "source": [
    "import time"
   ]
  },
  {
   "cell_type": "code",
   "execution_count": 20,
   "metadata": {},
   "outputs": [
    {
     "name": "stdout",
     "output_type": "stream",
     "text": [
      "It is dark outside...\n"
     ]
    }
   ],
   "source": [
    "currentHour = time.localtime().tm_hour\n",
    "\n",
    "if (currentHour >= 6 and currentHour < 18):\n",
    "    print('It is not dark outside...')\n",
    "else:\n",
    "    print('It is dark outside...')"
   ]
  },
  {
   "cell_type": "markdown",
   "metadata": {},
   "source": [
    "### Question 4"
   ]
  },
  {
   "cell_type": "markdown",
   "metadata": {},
   "source": [
    "For this question, I assume to compute Euclidean distance between two points given as latitude and longitude information."
   ]
  },
  {
   "cell_type": "code",
   "execution_count": 21,
   "metadata": {},
   "outputs": [
    {
     "data": {
      "text/plain": [
       "5.0"
      ]
     },
     "execution_count": 21,
     "metadata": {},
     "output_type": "execute_result"
    }
   ],
   "source": [
    "import math\n",
    "\n",
    "def computeDistance(point1, point2):\n",
    "    \n",
    "    term1 = ( point1[0] - point2[0] ) ** 2\n",
    "    term2 = ( point1[1] - point2[1] ) ** 2\n",
    "    \n",
    "    return math.sqrt(term1 + term2)\n",
    "\n",
    "computeDistance( (0, 0), (3, 4) )"
   ]
  },
  {
   "cell_type": "markdown",
   "metadata": {},
   "source": [
    "### Question 5"
   ]
  },
  {
   "cell_type": "markdown",
   "metadata": {},
   "source": [
    "For this question, I pass available cash and current password as parameters to a function whose algorithm is to take input from user and perform corresponding action:\n",
    "    1 - Cash Withdraw;\n",
    "    2 - Cash Credit;\n",
    "    3 - Change Password;\n",
    "    x - Display Remaining Balance"
   ]
  },
  {
   "cell_type": "code",
   "execution_count": 22,
   "metadata": {
    "collapsed": true
   },
   "outputs": [],
   "source": [
    "def atmMachine(cashAvailable = 2000, currentPassword = 'abcd'):\n",
    "    \n",
    "    userInput = int(input('Enter your choice: '))\n",
    "    \n",
    "    if userInput == 1:\n",
    "        \n",
    "        amount = int(input('Enter amount to be withdrawn: '))\n",
    "        \n",
    "        if (amount <= cashAvailable):\n",
    "            cashAvailable = cashAvailable - amount\n",
    "            print('Your remaining balance: ', cashAvailable)\n",
    "        else:\n",
    "            print('No sufficient funding available !!!')\n",
    "            \n",
    "    elif (userInput == 2):\n",
    "        \n",
    "        amount = int(input('Enter amount to be credited: '))\n",
    "        cashAvailable += amount\n",
    "        print('Your remaining balance: ', cashAvailable)\n",
    "        \n",
    "    elif (userInput == 3):\n",
    "        \n",
    "        currentPassword = input('Please enter your password: ')\n",
    "        print('Your password has been changed successfully...')\n",
    "        \n",
    "    else:\n",
    "        print('Your remaining balance: ', cashAvailable)\n",
    "        \n",
    "    return"
   ]
  },
  {
   "cell_type": "code",
   "execution_count": 23,
   "metadata": {},
   "outputs": [
    {
     "name": "stdout",
     "output_type": "stream",
     "text": [
      "Enter your choice: 1\n",
      "Enter amount to be withdrawn: 1800\n",
      "Your remaining balance:  200\n"
     ]
    }
   ],
   "source": [
    "atmMachine()"
   ]
  },
  {
   "cell_type": "code",
   "execution_count": 24,
   "metadata": {},
   "outputs": [
    {
     "name": "stdout",
     "output_type": "stream",
     "text": [
      "Enter your choice: 1\n",
      "Enter amount to be withdrawn: 2200\n",
      "No sufficient funding available !!!\n"
     ]
    }
   ],
   "source": [
    "atmMachine()"
   ]
  },
  {
   "cell_type": "code",
   "execution_count": 25,
   "metadata": {},
   "outputs": [
    {
     "name": "stdout",
     "output_type": "stream",
     "text": [
      "Enter your choice: 2\n",
      "Enter amount to be credited: 500\n",
      "Your remaining balance:  2500\n"
     ]
    }
   ],
   "source": [
    "atmMachine()"
   ]
  },
  {
   "cell_type": "code",
   "execution_count": 26,
   "metadata": {},
   "outputs": [
    {
     "name": "stdout",
     "output_type": "stream",
     "text": [
      "Enter your choice: 3\n",
      "Please enter your password: abhinivesh\n",
      "Your password has been changed successfully...\n"
     ]
    }
   ],
   "source": [
    "atmMachine()"
   ]
  },
  {
   "cell_type": "code",
   "execution_count": 27,
   "metadata": {},
   "outputs": [
    {
     "name": "stdout",
     "output_type": "stream",
     "text": [
      "Enter your choice: 4\n",
      "Your remaining balance:  2000\n"
     ]
    }
   ],
   "source": [
    "atmMachine()"
   ]
  },
  {
   "cell_type": "markdown",
   "metadata": {},
   "source": [
    "### Question 6"
   ]
  },
  {
   "cell_type": "markdown",
   "metadata": {},
   "source": [
    "For this question, append the required numbers to a list and later join them using a ',' ."
   ]
  },
  {
   "cell_type": "code",
   "execution_count": 29,
   "metadata": {},
   "outputs": [
    {
     "name": "stdout",
     "output_type": "stream",
     "text": [
      "2002, 2009, 2016, 2023, 2037, 2044, 2051, 2058, 2072, 2079, 2086, 2093, 2107, 2114, 2121, 2128, 2142, 2149, 2156, 2163, 2177, 2184, 2191, 2198, 2212, 2219, 2226, 2233, 2247, 2254, 2261, 2268, 2282, 2289, 2296, 2303, 2317, 2324, 2331, 2338, 2352, 2359, 2366, 2373, 2387, 2394, 2401, 2408, 2422, 2429, 2436, 2443, 2457, 2464, 2471, 2478, 2492, 2499, 2506, 2513, 2527, 2534, 2541, 2548, 2562, 2569, 2576, 2583, 2597, 2604, 2611, 2618, 2632, 2639, 2646, 2653, 2667, 2674, 2681, 2688, 2702, 2709, 2716, 2723, 2737, 2744, 2751, 2758, 2772, 2779, 2786, 2793, 2807, 2814, 2821, 2828, 2842, 2849, 2856, 2863, 2877, 2884, 2891, 2898, 2912, 2919, 2926, 2933, 2947, 2954, 2961, 2968, 2982, 2989, 2996, 3003, 3017, 3024, 3031, 3038, 3052, 3059, 3066, 3073, 3087, 3094, 3101, 3108, 3122, 3129, 3136, 3143, 3157, 3164, 3171, 3178, 3192, 3199\n"
     ]
    }
   ],
   "source": [
    "multiples_7 = []\n",
    "\n",
    "for num in range(2000, 3201):\n",
    "    \n",
    "    if (num % 7 == 0 and num % 5 != 0):\n",
    "        multiples_7.append(str(num))\n",
    "        \n",
    "print(\", \".join(multiples_7))"
   ]
  },
  {
   "cell_type": "markdown",
   "metadata": {},
   "source": [
    "### Question 7"
   ]
  },
  {
   "cell_type": "code",
   "execution_count": 30,
   "metadata": {
    "collapsed": true
   },
   "outputs": [],
   "source": [
    "def factorial(n):\n",
    "    \n",
    "    if (n <= 1):\n",
    "        return 1\n",
    "    else:\n",
    "        return n * factorial(n - 1)"
   ]
  },
  {
   "cell_type": "code",
   "execution_count": 31,
   "metadata": {},
   "outputs": [
    {
     "data": {
      "text/plain": [
       "40320"
      ]
     },
     "execution_count": 31,
     "metadata": {},
     "output_type": "execute_result"
    }
   ],
   "source": [
    "factorial(8)"
   ]
  },
  {
   "cell_type": "markdown",
   "metadata": {},
   "source": [
    "### Question 8"
   ]
  },
  {
   "cell_type": "code",
   "execution_count": 35,
   "metadata": {
    "collapsed": true
   },
   "outputs": [],
   "source": [
    "def computeD(d_string):\n",
    "    \n",
    "    inputList = d_string.split(',')\n",
    "    outputList = []\n",
    "    \n",
    "    for d in inputList:\n",
    "        d = int(d)\n",
    "        outputNumber = math.floor( math.sqrt(2 * 50 * d / 30) )\n",
    "        outputList.append(str(outputNumber))\n",
    "        \n",
    "    return ','.join(outputList)"
   ]
  },
  {
   "cell_type": "code",
   "execution_count": 37,
   "metadata": {},
   "outputs": [
    {
     "name": "stdout",
     "output_type": "stream",
     "text": [
      "18,22,24\n"
     ]
    }
   ],
   "source": [
    "print(computeD('100,150,180'))"
   ]
  },
  {
   "cell_type": "markdown",
   "metadata": {},
   "source": [
    "### Question 9"
   ]
  },
  {
   "cell_type": "code",
   "execution_count": 38,
   "metadata": {
    "collapsed": true
   },
   "outputs": [],
   "source": [
    "def generateMatrix(x, y):\n",
    "    \n",
    "    outputMatrix = []\n",
    "    \n",
    "    for i in range(x):\n",
    "        currentRow = []\n",
    "        for j in range(y):\n",
    "            currentRow.append(i*j)\n",
    "        outputMatrix.append(currentRow)\n",
    "        \n",
    "    return outputMatrix"
   ]
  },
  {
   "cell_type": "code",
   "execution_count": 39,
   "metadata": {},
   "outputs": [
    {
     "data": {
      "text/plain": [
       "[[0, 0, 0, 0, 0], [0, 1, 2, 3, 4], [0, 2, 4, 6, 8]]"
      ]
     },
     "execution_count": 39,
     "metadata": {},
     "output_type": "execute_result"
    }
   ],
   "source": [
    "generateMatrix(3, 5)"
   ]
  },
  {
   "cell_type": "markdown",
   "metadata": {},
   "source": [
    "### Question 10"
   ]
  },
  {
   "cell_type": "code",
   "execution_count": 40,
   "metadata": {
    "collapsed": true
   },
   "outputs": [],
   "source": [
    "def sortWords(word_string):\n",
    "    \n",
    "    words = word_string.split(',')\n",
    "    words.sort()\n",
    "    return ','.join(words)"
   ]
  },
  {
   "cell_type": "code",
   "execution_count": 41,
   "metadata": {},
   "outputs": [
    {
     "name": "stdout",
     "output_type": "stream",
     "text": [
      "bag,hello,without,world\n"
     ]
    }
   ],
   "source": [
    "print(sortWords('without,hello,bag,world'))"
   ]
  },
  {
   "cell_type": "markdown",
   "metadata": {},
   "source": [
    "### Question 11"
   ]
  },
  {
   "cell_type": "code",
   "execution_count": 42,
   "metadata": {
    "collapsed": true
   },
   "outputs": [],
   "source": [
    "def makeUpper(inputList):\n",
    "    \n",
    "    for eachLine in inputList:\n",
    "        \n",
    "        currentLine = []\n",
    "        for eachChar in eachLine:\n",
    "            currentLine.append(eachChar.upper())\n",
    "        \n",
    "        print(''.join(currentLine))"
   ]
  },
  {
   "cell_type": "code",
   "execution_count": 43,
   "metadata": {},
   "outputs": [
    {
     "name": "stdout",
     "output_type": "stream",
     "text": [
      "HELLO WORLD\n",
      "PRACTICE MAKES PERFECT\n"
     ]
    }
   ],
   "source": [
    "inputList = ['Hello world', 'Practice makes perfect']\n",
    "makeUpper(inputList)"
   ]
  },
  {
   "cell_type": "markdown",
   "metadata": {},
   "source": [
    "### Question 12"
   ]
  },
  {
   "cell_type": "code",
   "execution_count": 44,
   "metadata": {
    "collapsed": true
   },
   "outputs": [],
   "source": [
    "def sortUniqueWords(word_string):\n",
    "    \n",
    "    words = word_string.split()\n",
    "    words = list(set(words))\n",
    "    words.sort()\n",
    "    return ' '.join(words)"
   ]
  },
  {
   "cell_type": "code",
   "execution_count": 45,
   "metadata": {},
   "outputs": [
    {
     "name": "stdout",
     "output_type": "stream",
     "text": [
      "again and hello makes perfect practice world\n"
     ]
    }
   ],
   "source": [
    "print(sortUniqueWords('hello world and practice makes perfect and hello world again'))"
   ]
  },
  {
   "cell_type": "markdown",
   "metadata": {},
   "source": [
    "### Question 13"
   ]
  },
  {
   "cell_type": "code",
   "execution_count": 61,
   "metadata": {
    "collapsed": true
   },
   "outputs": [],
   "source": [
    "def getMultiples5(inputList):\n",
    "    \n",
    "    multiples_5 = []\n",
    "    \n",
    "    for currentBinary in inputList:\n",
    "        \n",
    "        number = 0\n",
    "        count = 0\n",
    "        for digit in currentBinary[::-1]:\n",
    "            \n",
    "            digit = int(digit)\n",
    "            number += digit * (2 ** count)\n",
    "            count += 1\n",
    "            \n",
    "        if (number % 5 == 0):\n",
    "            multiples_5.append(currentBinary)\n",
    "            \n",
    "                \n",
    "    return ','.join(multiples_5)"
   ]
  },
  {
   "cell_type": "code",
   "execution_count": 62,
   "metadata": {},
   "outputs": [
    {
     "name": "stdout",
     "output_type": "stream",
     "text": [
      "1010,101\n"
     ]
    }
   ],
   "source": [
    "inputList = ['0100','0011','1010','1001', '101']\n",
    "print(getMultiples5(inputList))"
   ]
  },
  {
   "cell_type": "markdown",
   "metadata": {},
   "source": [
    "### Question 14"
   ]
  },
  {
   "cell_type": "code",
   "execution_count": 63,
   "metadata": {
    "collapsed": true
   },
   "outputs": [],
   "source": [
    "def getFrequencies(word):\n",
    "    \n",
    "    frequencies = {'lower': 0, 'upper': 0}\n",
    "    \n",
    "    for char in word:\n",
    "        \n",
    "        if char.isupper():\n",
    "            frequencies['upper'] += 1\n",
    "        elif char.islower():\n",
    "            frequencies['lower'] += 1\n",
    "            \n",
    "    print('UPPER CASE: {}'.format(frequencies['upper']))\n",
    "    print('LOWER CASE: {}'.format(frequencies['lower']))"
   ]
  },
  {
   "cell_type": "code",
   "execution_count": 64,
   "metadata": {},
   "outputs": [
    {
     "name": "stdout",
     "output_type": "stream",
     "text": [
      "UPPER CASE: 1\n",
      "LOWER CASE: 9\n"
     ]
    }
   ],
   "source": [
    "getFrequencies('Hello world!')"
   ]
  },
  {
   "cell_type": "markdown",
   "metadata": {},
   "source": [
    "### Question 15"
   ]
  },
  {
   "cell_type": "code",
   "execution_count": 68,
   "metadata": {},
   "outputs": [
    {
     "name": "stdout",
     "output_type": "stream",
     "text": [
      "FSUM of first 10 integers:  55.0\n",
      "SUM of first 10 integers: 55\n"
     ]
    }
   ],
   "source": [
    "print('FSUM of first 10 integers: ', math.fsum(range(11)))\n",
    "print('SUM of first 10 integers:' , sum(range(11)))"
   ]
  },
  {
   "cell_type": "markdown",
   "metadata": {},
   "source": [
    "The difference between math's fsum and sum functions is that fsum returns a floating point number even when a list of integers are passed, whereas sum returns an integer in the same scenario."
   ]
  },
  {
   "cell_type": "code",
   "execution_count": null,
   "metadata": {
    "collapsed": true
   },
   "outputs": [],
   "source": []
  }
 ],
 "metadata": {
  "kernelspec": {
   "display_name": "Python 3",
   "language": "python",
   "name": "python3"
  },
  "language_info": {
   "codemirror_mode": {
    "name": "ipython",
    "version": 3
   },
   "file_extension": ".py",
   "mimetype": "text/x-python",
   "name": "python",
   "nbconvert_exporter": "python",
   "pygments_lexer": "ipython3",
   "version": "3.6.3"
  }
 },
 "nbformat": 4,
 "nbformat_minor": 2
}
