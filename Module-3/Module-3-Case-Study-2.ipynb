{
 "cells": [
  {
   "cell_type": "code",
   "execution_count": 1,
   "metadata": {
    "collapsed": true
   },
   "outputs": [],
   "source": [
    "import pandas as pd"
   ]
  },
  {
   "cell_type": "markdown",
   "metadata": {},
   "source": [
    "#### Step-1: Read Bank Data csv file"
   ]
  },
  {
   "cell_type": "code",
   "execution_count": 2,
   "metadata": {},
   "outputs": [
    {
     "data": {
      "text/html": [
       "<div>\n",
       "<table border=\"1\" class=\"dataframe\">\n",
       "  <thead>\n",
       "    <tr style=\"text-align: right;\">\n",
       "      <th></th>\n",
       "      <th>age</th>\n",
       "      <th>job</th>\n",
       "      <th>marital</th>\n",
       "      <th>y</th>\n",
       "    </tr>\n",
       "  </thead>\n",
       "  <tbody>\n",
       "    <tr>\n",
       "      <th>0</th>\n",
       "      <td>20</td>\n",
       "      <td>student</td>\n",
       "      <td>single</td>\n",
       "      <td>yes</td>\n",
       "    </tr>\n",
       "    <tr>\n",
       "      <th>1</th>\n",
       "      <td>32</td>\n",
       "      <td>management</td>\n",
       "      <td>single</td>\n",
       "      <td>yes</td>\n",
       "    </tr>\n",
       "    <tr>\n",
       "      <th>2</th>\n",
       "      <td>49</td>\n",
       "      <td>technician</td>\n",
       "      <td>married</td>\n",
       "      <td>yes</td>\n",
       "    </tr>\n",
       "    <tr>\n",
       "      <th>3</th>\n",
       "      <td>32</td>\n",
       "      <td>blue-collar</td>\n",
       "      <td>married</td>\n",
       "      <td>yes</td>\n",
       "    </tr>\n",
       "    <tr>\n",
       "      <th>4</th>\n",
       "      <td>33</td>\n",
       "      <td>management</td>\n",
       "      <td>married</td>\n",
       "      <td>yes</td>\n",
       "    </tr>\n",
       "  </tbody>\n",
       "</table>\n",
       "</div>"
      ],
      "text/plain": [
       "   age          job  marital    y\n",
       "0   20      student   single  yes\n",
       "1   32   management   single  yes\n",
       "2   49   technician  married  yes\n",
       "3   32  blue-collar  married  yes\n",
       "4   33   management  married  yes"
      ]
     },
     "execution_count": 2,
     "metadata": {},
     "output_type": "execute_result"
    }
   ],
   "source": [
    "bankData = pd.read_csv('bank-data.csv')\n",
    "bankData.head()"
   ]
  },
  {
   "cell_type": "markdown",
   "metadata": {},
   "source": [
    "#### Step 2: Building Set of Unique Jobs"
   ]
  },
  {
   "cell_type": "code",
   "execution_count": 5,
   "metadata": {},
   "outputs": [],
   "source": [
    "jobsList = bankData['job']\n",
    "uniqueJobs = set(jobsList)"
   ]
  },
  {
   "cell_type": "code",
   "execution_count": 7,
   "metadata": {},
   "outputs": [
    {
     "data": {
      "text/plain": [
       "{'admin.',\n",
       " 'blue-collar',\n",
       " 'entrepreneur',\n",
       " 'housemaid',\n",
       " 'management',\n",
       " 'self-employed',\n",
       " 'services',\n",
       " 'student',\n",
       " 'technician'}"
      ]
     },
     "execution_count": 7,
     "metadata": {},
     "output_type": "execute_result"
    }
   ],
   "source": [
    "uniqueJobs"
   ]
  },
  {
   "cell_type": "markdown",
   "metadata": {},
   "source": [
    "#### Step3: Read Input --> Check Profession Eligibility"
   ]
  },
  {
   "cell_type": "code",
   "execution_count": 8,
   "metadata": {
    "collapsed": true
   },
   "outputs": [],
   "source": [
    "def checkEligibility(uniqueJobs: set) -> None:\n",
    "    \n",
    "    userProfession = input('Hey User, Please Enter Your Profession: ')\n",
    "    \n",
    "    if (userProfession in uniqueJobs):\n",
    "        print('Congratulations User !!!  You are eligible for a Loan !!!')\n",
    "    else:\n",
    "        print(\"We're sorry User !!! You don't meet our profession eligibilty requirements\")\n",
    "        \n",
    "    return"
   ]
  },
  {
   "cell_type": "code",
   "execution_count": 9,
   "metadata": {},
   "outputs": [
    {
     "name": "stdout",
     "output_type": "stream",
     "text": [
      "Hey User, Please Enter Your Profession: Admin\n",
      "We're sorry User !!! You don't meet our profession eligibilty requirements\n"
     ]
    }
   ],
   "source": [
    "checkEligibility(uniqueJobs)"
   ]
  },
  {
   "cell_type": "code",
   "execution_count": 10,
   "metadata": {},
   "outputs": [
    {
     "name": "stdout",
     "output_type": "stream",
     "text": [
      "Hey User, Please Enter Your Profession: blue-collar\n",
      "Congratulations User !!!  You are eligible for a Loan !!!\n"
     ]
    }
   ],
   "source": [
    "checkEligibility(uniqueJobs)"
   ]
  },
  {
   "cell_type": "markdown",
   "metadata": {},
   "source": [
    "### Enhancements"
   ]
  },
  {
   "cell_type": "markdown",
   "metadata": {},
   "source": [
    "#### Step 4: Compute Min and Max Age Requirements --> Store in Dictionary "
   ]
  },
  {
   "cell_type": "code",
   "execution_count": 14,
   "metadata": {},
   "outputs": [],
   "source": [
    "agesList = bankData['age']\n",
    "minAge = min(agesList)\n",
    "maxAge = max(agesList)"
   ]
  },
  {
   "cell_type": "code",
   "execution_count": 15,
   "metadata": {},
   "outputs": [
    {
     "data": {
      "text/plain": [
       "(19, 80)"
      ]
     },
     "execution_count": 15,
     "metadata": {},
     "output_type": "execute_result"
    }
   ],
   "source": [
    "minAge, maxAge"
   ]
  },
  {
   "cell_type": "code",
   "execution_count": 17,
   "metadata": {},
   "outputs": [
    {
     "name": "stdout",
     "output_type": "stream",
     "text": [
      "{'minimum-age': 19, 'maximum-age': 80}\n"
     ]
    }
   ],
   "source": [
    "minMaxAges = {'minimum-age': minAge, 'maximum-age': maxAge}\n",
    "print(minMaxAges)"
   ]
  },
  {
   "cell_type": "markdown",
   "metadata": {},
   "source": [
    "#### Step 5: Making Profession Check - Case Insensitive --> Running a While Loop Until END"
   ]
  },
  {
   "cell_type": "code",
   "execution_count": 22,
   "metadata": {
    "collapsed": true
   },
   "outputs": [],
   "source": [
    "def checkEligibilityLoop(uniqueJobs: set) -> None:\n",
    "    \n",
    "    userProfession = input('Hey User, Please Enter Your Profession: ').lower()\n",
    "    \n",
    "    while(userProfession != 'end'):\n",
    "        \n",
    "        if (userProfession in uniqueJobs):\n",
    "            print('Congratulations User !!!  You are eligible for a Loan !!!')\n",
    "        else:\n",
    "            print(\"We're sorry User !!! You don't meet our profession eligibilty requirements\")\n",
    "        \n",
    "        print('======================================================')\n",
    "        userProfession = input('Hey User, Please Enter Your Profession: ').lower()\n",
    "        \n",
    "    return"
   ]
  },
  {
   "cell_type": "code",
   "execution_count": 23,
   "metadata": {},
   "outputs": [
    {
     "name": "stdout",
     "output_type": "stream",
     "text": [
      "Hey User, Please Enter Your Profession: Admin.\n",
      "Congratulations User !!!  You are eligible for a Loan !!!\n",
      "======================================================\n",
      "Hey User, Please Enter Your Profession: Teacher\n",
      "We're sorry User !!! You don't meet our profession eligibilty requirements\n",
      "======================================================\n",
      "Hey User, Please Enter Your Profession: ENTREPRENEUR\n",
      "Congratulations User !!!  You are eligible for a Loan !!!\n",
      "======================================================\n",
      "Hey User, Please Enter Your Profession: maid\n",
      "We're sorry User !!! You don't meet our profession eligibilty requirements\n",
      "======================================================\n",
      "Hey User, Please Enter Your Profession: HouseMaid\n",
      "Congratulations User !!!  You are eligible for a Loan !!!\n",
      "======================================================\n",
      "Hey User, Please Enter Your Profession: END\n"
     ]
    }
   ],
   "source": [
    "checkEligibilityLoop(uniqueJobs)"
   ]
  },
  {
   "cell_type": "code",
   "execution_count": null,
   "metadata": {
    "collapsed": true
   },
   "outputs": [],
   "source": []
  }
 ],
 "metadata": {
  "kernelspec": {
   "display_name": "Python 3",
   "language": "python",
   "name": "python3"
  },
  "language_info": {
   "codemirror_mode": {
    "name": "ipython",
    "version": 3
   },
   "file_extension": ".py",
   "mimetype": "text/x-python",
   "name": "python",
   "nbconvert_exporter": "python",
   "pygments_lexer": "ipython3",
   "version": "3.6.3"
  }
 },
 "nbformat": 4,
 "nbformat_minor": 2
}
