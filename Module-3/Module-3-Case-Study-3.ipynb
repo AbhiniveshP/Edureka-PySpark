{
 "cells": [
  {
   "cell_type": "code",
   "execution_count": 1,
   "metadata": {
    "collapsed": true
   },
   "outputs": [],
   "source": [
    "import pandas as pd"
   ]
  },
  {
   "cell_type": "markdown",
   "metadata": {},
   "source": [
    "### Customer Class"
   ]
  },
  {
   "cell_type": "code",
   "execution_count": 43,
   "metadata": {
    "collapsed": true
   },
   "outputs": [],
   "source": [
    "class Customer:\n",
    "    title = \"\"\n",
    "    fname = \"\"\n",
    "    lname = \"\"\n",
    "    isblacklisted = 0\n",
    "    isblacklistedString = 'No'\n",
    "\n",
    "    def __init__(self):\n",
    "        self.title = \"\"\n",
    "\n",
    "    def __str__(self):\n",
    "        return \"Title:\" + self.title + \" First Name:\" + self.fname + \" Last Name:\" + self.lname + \" Blacklisted:\" + self.isblacklistedString\n",
    "\n",
    "    def setIsblacklisted(self,isblacklisted):\n",
    "        self.isblacklisted = isblacklisted\n",
    "\n",
    "    def isblacklisted(self):\n",
    "        return self.isblacklisted\n",
    "    \n",
    "    def setIsBlackListedString(self):\n",
    "        \n",
    "        if (self.isblacklisted == 0):\n",
    "            self.isblacklistedString = 'No'\n",
    "        else:\n",
    "            self.isblacklistedString = 'Yes'\n",
    "\n",
    "    def setTitle(self,title):\n",
    "        self.title = title\n",
    "\n",
    "    def getTitle(self):\n",
    "        return self.title\n",
    "\n",
    "    def setFname(self,fname):\n",
    "        self.fname = fname\n",
    "\n",
    "    def getFname(self):\n",
    "        return self.fname\n",
    "\n",
    "    def setLname(self,lname):\n",
    "        self.lname = lname\n",
    "\n",
    "    def getLname(self):\n",
    "        return self.lname"
   ]
  },
  {
   "cell_type": "markdown",
   "metadata": {},
   "source": [
    "#### Step 1: Read FairDealCustomerData"
   ]
  },
  {
   "cell_type": "code",
   "execution_count": 5,
   "metadata": {},
   "outputs": [
    {
     "data": {
      "text/html": [
       "<div>\n",
       "<table border=\"1\" class=\"dataframe\">\n",
       "  <thead>\n",
       "    <tr style=\"text-align: right;\">\n",
       "      <th></th>\n",
       "      <th>0</th>\n",
       "      <th>1</th>\n",
       "      <th>2</th>\n",
       "    </tr>\n",
       "  </thead>\n",
       "  <tbody>\n",
       "    <tr>\n",
       "      <th>0</th>\n",
       "      <td>Braund</td>\n",
       "      <td>Mr. Owen Harris</td>\n",
       "      <td>1</td>\n",
       "    </tr>\n",
       "    <tr>\n",
       "      <th>1</th>\n",
       "      <td>Heikkinen</td>\n",
       "      <td>Miss. Laina</td>\n",
       "      <td>0</td>\n",
       "    </tr>\n",
       "    <tr>\n",
       "      <th>2</th>\n",
       "      <td>Allen</td>\n",
       "      <td>Mr. William Henry</td>\n",
       "      <td>0</td>\n",
       "    </tr>\n",
       "    <tr>\n",
       "      <th>3</th>\n",
       "      <td>Moran</td>\n",
       "      <td>Mr. James</td>\n",
       "      <td>0</td>\n",
       "    </tr>\n",
       "    <tr>\n",
       "      <th>4</th>\n",
       "      <td>McCarthy</td>\n",
       "      <td>Mr. Timothy J</td>\n",
       "      <td>0</td>\n",
       "    </tr>\n",
       "  </tbody>\n",
       "</table>\n",
       "</div>"
      ],
      "text/plain": [
       "            0                    1  2\n",
       "0      Braund     Mr. Owen Harris   1\n",
       "1   Heikkinen         Miss. Laina   0\n",
       "2       Allen   Mr. William Henry   0\n",
       "3       Moran           Mr. James   0\n",
       "4    McCarthy       Mr. Timothy J   0"
      ]
     },
     "execution_count": 5,
     "metadata": {},
     "output_type": "execute_result"
    }
   ],
   "source": [
    "fairDealData = pd.read_csv('FairDealCustomerData.csv', header= None)\n",
    "fairDealData.head()"
   ]
  },
  {
   "cell_type": "markdown",
   "metadata": {},
   "source": [
    "#### Step 2: Separate Title, First Name, Last Name"
   ]
  },
  {
   "cell_type": "code",
   "execution_count": 23,
   "metadata": {},
   "outputs": [],
   "source": [
    "def separateFullName(name):\n",
    "    \n",
    "    splitName = name.split()\n",
    "    \n",
    "    title = splitName[0]\n",
    "    firstName = splitName[1]\n",
    "    lastName = ' '.join(splitName[2:])\n",
    "    \n",
    "    return (title, firstName, lastName)"
   ]
  },
  {
   "cell_type": "markdown",
   "metadata": {},
   "source": [
    "#### Step 3: Store Customer Information from csv into Customer Class"
   ]
  },
  {
   "cell_type": "code",
   "execution_count": 40,
   "metadata": {
    "collapsed": true
   },
   "outputs": [],
   "source": [
    "def storeInCustomerClass(row):\n",
    "    \n",
    "    customerObject = Customer()\n",
    "    \n",
    "    (title, firstName, lastName) = separateFullName(row[1])\n",
    "    \n",
    "    customerObject.setTitle(title)\n",
    "    customerObject.setFname(firstName)\n",
    "    customerObject.setLname(lastName)\n",
    "    customerObject.setIsblacklisted(int(row[2]))\n",
    "    customerObject.setIsBlackListedString()\n",
    "    \n",
    "    return customerObject"
   ]
  },
  {
   "cell_type": "code",
   "execution_count": 33,
   "metadata": {},
   "outputs": [
    {
     "name": "stdout",
     "output_type": "stream",
     "text": [
      "Title:Mr. First Name:Owen Last Name:Harris Blacklisted:Yes\n"
     ]
    },
    {
     "data": {
      "text/plain": [
       "<__main__.Customer at 0x7fb4af0c4198>"
      ]
     },
     "execution_count": 33,
     "metadata": {},
     "output_type": "execute_result"
    }
   ],
   "source": [
    "storeInCustomerClass(fairDealData.iloc[0])"
   ]
  },
  {
   "cell_type": "markdown",
   "metadata": {},
   "source": [
    "#### Step 4: Create a Custom Exception - CustomerNotAllowedException"
   ]
  },
  {
   "cell_type": "code",
   "execution_count": 29,
   "metadata": {
    "collapsed": true
   },
   "outputs": [],
   "source": [
    "class CustomerNotAllowedException(Exception):\n",
    "    \n",
    "    def __str__(self):\n",
    "        return 'Customer is not allowed as the customer is blacklisted !!!'"
   ]
  },
  {
   "cell_type": "code",
   "execution_count": 38,
   "metadata": {
    "collapsed": true
   },
   "outputs": [],
   "source": [
    "def createOrder(customer: Customer):\n",
    "    \n",
    "    if customer.isblacklisted == 1:\n",
    "        raise CustomerNotAllowedException\n",
    "    else:\n",
    "        print('Customer is allowed to create Order')"
   ]
  },
  {
   "cell_type": "code",
   "execution_count": 41,
   "metadata": {},
   "outputs": [
    {
     "ename": "CustomerNotAllowedException",
     "evalue": "Customer is not allowed as the customer is blacklisted !!!",
     "output_type": "error",
     "traceback": [
      "\u001b[0;31m---------------------------------------------------------------------------\u001b[0m",
      "\u001b[0;31mCustomerNotAllowedException\u001b[0m               Traceback (most recent call last)",
      "\u001b[0;32m<ipython-input-41-1e5d9d73162b>\u001b[0m in \u001b[0;36m<module>\u001b[0;34m()\u001b[0m\n\u001b[1;32m      1\u001b[0m \u001b[0mcustomerObj1\u001b[0m \u001b[0;34m=\u001b[0m \u001b[0mstoreInCustomerClass\u001b[0m\u001b[0;34m(\u001b[0m\u001b[0mfairDealData\u001b[0m\u001b[0;34m.\u001b[0m\u001b[0miloc\u001b[0m\u001b[0;34m[\u001b[0m\u001b[0;36m0\u001b[0m\u001b[0;34m]\u001b[0m\u001b[0;34m)\u001b[0m\u001b[0;34m\u001b[0m\u001b[0m\n\u001b[0;32m----> 2\u001b[0;31m \u001b[0mcreateOrder\u001b[0m\u001b[0;34m(\u001b[0m\u001b[0mcustomerObj1\u001b[0m\u001b[0;34m)\u001b[0m\u001b[0;34m\u001b[0m\u001b[0m\n\u001b[0m",
      "\u001b[0;32m<ipython-input-38-6d1b54ac8a4b>\u001b[0m in \u001b[0;36mcreateOrder\u001b[0;34m(customer)\u001b[0m\n\u001b[1;32m      2\u001b[0m \u001b[0;34m\u001b[0m\u001b[0m\n\u001b[1;32m      3\u001b[0m     \u001b[0;32mif\u001b[0m \u001b[0mcustomer\u001b[0m\u001b[0;34m.\u001b[0m\u001b[0misblacklisted\u001b[0m \u001b[0;34m==\u001b[0m \u001b[0;36m1\u001b[0m\u001b[0;34m:\u001b[0m\u001b[0;34m\u001b[0m\u001b[0m\n\u001b[0;32m----> 4\u001b[0;31m         \u001b[0;32mraise\u001b[0m \u001b[0mCustomerNotAllowedException\u001b[0m\u001b[0;34m\u001b[0m\u001b[0m\n\u001b[0m\u001b[1;32m      5\u001b[0m     \u001b[0;32melse\u001b[0m\u001b[0;34m:\u001b[0m\u001b[0;34m\u001b[0m\u001b[0m\n\u001b[1;32m      6\u001b[0m         \u001b[0mprint\u001b[0m\u001b[0;34m(\u001b[0m\u001b[0;34m'Customer is allowed to create Order'\u001b[0m\u001b[0;34m)\u001b[0m\u001b[0;34m\u001b[0m\u001b[0m\n",
      "\u001b[0;31mCustomerNotAllowedException\u001b[0m: Customer is not allowed as the customer is blacklisted !!!"
     ]
    }
   ],
   "source": [
    "customerObj1 = storeInCustomerClass(fairDealData.iloc[0])\n",
    "createOrder(customerObj1)"
   ]
  },
  {
   "cell_type": "code",
   "execution_count": 42,
   "metadata": {},
   "outputs": [
    {
     "name": "stdout",
     "output_type": "stream",
     "text": [
      "Customer is allowed to create Order\n"
     ]
    }
   ],
   "source": [
    "customerObj2 = storeInCustomerClass(fairDealData.iloc[1])\n",
    "createOrder(customerObj2)"
   ]
  },
  {
   "cell_type": "markdown",
   "metadata": {},
   "source": [
    "### Enhancements"
   ]
  },
  {
   "cell_type": "markdown",
   "metadata": {},
   "source": [
    "#### Step 5: Create Class Order"
   ]
  },
  {
   "cell_type": "code",
   "execution_count": 45,
   "metadata": {
    "collapsed": true
   },
   "outputs": [],
   "source": [
    "class Order(object):\n",
    "    \n",
    "    def __init__(self, customer, productName, productCode):\n",
    "        \n",
    "        self.customer = customer\n",
    "        self.productName = productName\n",
    "        self.productCode = productCode\n",
    "        \n",
    "    def __str__(self):\n",
    "        \n",
    "        return \"Customer: \" + str(self.customer) + '\\n' + \"Product Name: \" + self.productName + '\\n' +  \"Product Code: \" + self.productCode"
   ]
  },
  {
   "cell_type": "markdown",
   "metadata": {},
   "source": [
    "#### Step 6: Modify createOrder() to take product name and code as parameters and return Order object"
   ]
  },
  {
   "cell_type": "code",
   "execution_count": 46,
   "metadata": {
    "collapsed": true
   },
   "outputs": [],
   "source": [
    "def createOrder(customer: Customer, productName: str, productCode: str) -> Order:\n",
    "    \n",
    "    orderObject = Order(customer, productName, productCode)\n",
    "    \n",
    "    if customer.isblacklisted == 1:\n",
    "        raise CustomerNotAllowedException\n",
    "    else:\n",
    "        return orderObject"
   ]
  },
  {
   "cell_type": "code",
   "execution_count": 47,
   "metadata": {},
   "outputs": [
    {
     "ename": "CustomerNotAllowedException",
     "evalue": "Customer is not allowed as the customer is blacklisted !!!",
     "output_type": "error",
     "traceback": [
      "\u001b[0;31m---------------------------------------------------------------------------\u001b[0m",
      "\u001b[0;31mCustomerNotAllowedException\u001b[0m               Traceback (most recent call last)",
      "\u001b[0;32m<ipython-input-47-3a27925afaea>\u001b[0m in \u001b[0;36m<module>\u001b[0;34m()\u001b[0m\n\u001b[0;32m----> 1\u001b[0;31m \u001b[0mprint\u001b[0m\u001b[0;34m(\u001b[0m\u001b[0mcreateOrder\u001b[0m\u001b[0;34m(\u001b[0m\u001b[0mcustomerObj1\u001b[0m\u001b[0;34m,\u001b[0m \u001b[0;34m'Product1'\u001b[0m\u001b[0;34m,\u001b[0m \u001b[0;34m'ABC'\u001b[0m\u001b[0;34m)\u001b[0m\u001b[0;34m)\u001b[0m\u001b[0;34m\u001b[0m\u001b[0m\n\u001b[0m",
      "\u001b[0;32m<ipython-input-46-ef3a12cc7c0f>\u001b[0m in \u001b[0;36mcreateOrder\u001b[0;34m(customer, productName, productCode)\u001b[0m\n\u001b[1;32m      4\u001b[0m \u001b[0;34m\u001b[0m\u001b[0m\n\u001b[1;32m      5\u001b[0m     \u001b[0;32mif\u001b[0m \u001b[0mcustomer\u001b[0m\u001b[0;34m.\u001b[0m\u001b[0misblacklisted\u001b[0m \u001b[0;34m==\u001b[0m \u001b[0;36m1\u001b[0m\u001b[0;34m:\u001b[0m\u001b[0;34m\u001b[0m\u001b[0m\n\u001b[0;32m----> 6\u001b[0;31m         \u001b[0;32mraise\u001b[0m \u001b[0mCustomerNotAllowedException\u001b[0m\u001b[0;34m\u001b[0m\u001b[0m\n\u001b[0m\u001b[1;32m      7\u001b[0m     \u001b[0;32melse\u001b[0m\u001b[0;34m:\u001b[0m\u001b[0;34m\u001b[0m\u001b[0m\n\u001b[1;32m      8\u001b[0m         \u001b[0;32mreturn\u001b[0m \u001b[0morderObject\u001b[0m\u001b[0;34m\u001b[0m\u001b[0m\n",
      "\u001b[0;31mCustomerNotAllowedException\u001b[0m: Customer is not allowed as the customer is blacklisted !!!"
     ]
    }
   ],
   "source": [
    "print(createOrder(customerObj1, 'Product1', 'ABC'))"
   ]
  },
  {
   "cell_type": "code",
   "execution_count": 48,
   "metadata": {},
   "outputs": [
    {
     "name": "stdout",
     "output_type": "stream",
     "text": [
      "Customer: Title:Miss. First Name:Laina Last Name: Blacklisted:No\n",
      "Product Name: Product2\n",
      "Product Code: ABD\n"
     ]
    }
   ],
   "source": [
    "print(createOrder(customerObj2, 'Product2', 'ABD'))"
   ]
  },
  {
   "cell_type": "code",
   "execution_count": null,
   "metadata": {
    "collapsed": true
   },
   "outputs": [],
   "source": []
  }
 ],
 "metadata": {
  "kernelspec": {
   "display_name": "Python 3",
   "language": "python",
   "name": "python3"
  },
  "language_info": {
   "codemirror_mode": {
    "name": "ipython",
    "version": 3
   },
   "file_extension": ".py",
   "mimetype": "text/x-python",
   "name": "python",
   "nbconvert_exporter": "python",
   "pygments_lexer": "ipython3",
   "version": "3.6.3"
  }
 },
 "nbformat": 4,
 "nbformat_minor": 2
}
