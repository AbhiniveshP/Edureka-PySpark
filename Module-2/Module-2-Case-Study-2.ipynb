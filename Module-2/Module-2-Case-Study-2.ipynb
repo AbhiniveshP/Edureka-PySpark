{
 "cells": [
  {
   "cell_type": "code",
   "execution_count": 1,
   "metadata": {
    "collapsed": true
   },
   "outputs": [],
   "source": [
    "import base64 as b64"
   ]
  },
  {
   "cell_type": "markdown",
   "metadata": {},
   "source": [
    "## Helper Functions"
   ]
  },
  {
   "cell_type": "code",
   "execution_count": 34,
   "metadata": {
    "collapsed": true
   },
   "outputs": [],
   "source": [
    "def isValid(referenceID):\n",
    "    \n",
    "    '''\n",
    "    Return true if length is 12 with only alpha numeric chars\n",
    "    '''\n",
    "    \n",
    "    cond_1 = ( len(referenceID) == 12 )\n",
    "    cond_2 = referenceID.isalnum()\n",
    "    \n",
    "    return cond_1 and cond_2"
   ]
  },
  {
   "cell_type": "code",
   "execution_count": 35,
   "metadata": {
    "collapsed": true
   },
   "outputs": [],
   "source": [
    "def display(referenceID):\n",
    "    \n",
    "    '''\n",
    "    Displays encrypted value for a given reference ID\n",
    "    '''\n",
    "    \n",
    "    encryptedID = b64.b64encode(referenceID.encode())\n",
    "    print( 'Your Encrypted Reference ID: ' + str(encryptedID) )"
   ]
  },
  {
   "cell_type": "code",
   "execution_count": 36,
   "metadata": {
    "collapsed": true
   },
   "outputs": [],
   "source": [
    "def isValidExtra(referenceID):\n",
    "    \n",
    "    '''\n",
    "    Return true if length is 12 with only alpha numeric chars\n",
    "    allowing some extra special characters\n",
    "    '''\n",
    "    \n",
    "    if ( len(referenceID) != 12 ):\n",
    "        return False\n",
    "    \n",
    "    specialChars = '!@#$'\n",
    "    \n",
    "    for eachChar in referenceID:\n",
    "        if ( not eachChar.isalnum() and eachChar not in specialChars ):\n",
    "            return False\n",
    "        \n",
    "    return True"
   ]
  },
  {
   "cell_type": "code",
   "execution_count": 37,
   "metadata": {
    "collapsed": true
   },
   "outputs": [],
   "source": [
    "def encryptYourID(referenceID):\n",
    "    \n",
    "    '''\n",
    "    Returns encrypted string\n",
    "    '''\n",
    "    \n",
    "    return b64.b64encode(referenceID.encode())"
   ]
  },
  {
   "cell_type": "code",
   "execution_count": 38,
   "metadata": {
    "collapsed": true
   },
   "outputs": [],
   "source": [
    "def decryptYourID(encryptedID):\n",
    "    \n",
    "    '''\n",
    "    Returns decrypted string\n",
    "    '''\n",
    "    \n",
    "    return b64.b64decode(encryptedID).decode()"
   ]
  },
  {
   "cell_type": "markdown",
   "metadata": {},
   "source": [
    "### Step-1 -- Read Reference ID"
   ]
  },
  {
   "cell_type": "code",
   "execution_count": 10,
   "metadata": {},
   "outputs": [
    {
     "name": "stdout",
     "output_type": "stream",
     "text": [
      "Please enter your reference ID: Abhinivesh12\n"
     ]
    }
   ],
   "source": [
    "referenceID = input('Please enter your reference ID: ')"
   ]
  },
  {
   "cell_type": "markdown",
   "metadata": {},
   "source": [
    "### Step-2 -- Validate Reference ID"
   ]
  },
  {
   "cell_type": "code",
   "execution_count": 20,
   "metadata": {},
   "outputs": [
    {
     "name": "stdout",
     "output_type": "stream",
     "text": [
      "Your reference ID is valid !!!\n"
     ]
    }
   ],
   "source": [
    "if isValid(referenceID):\n",
    "    print('Your reference ID is valid !!!')\n",
    "else:\n",
    "    print('Your reference ID is not valid !!!')"
   ]
  },
  {
   "cell_type": "markdown",
   "metadata": {},
   "source": [
    "### Step-3 -- Display Encrypted Reference ID"
   ]
  },
  {
   "cell_type": "code",
   "execution_count": 23,
   "metadata": {},
   "outputs": [
    {
     "name": "stdout",
     "output_type": "stream",
     "text": [
      "Your Encrypted Reference ID: b'QWJoaW5pdmVzaDEy'\n"
     ]
    }
   ],
   "source": [
    "display(referenceID)"
   ]
  },
  {
   "cell_type": "markdown",
   "metadata": {},
   "source": [
    "## Enhancements"
   ]
  },
  {
   "cell_type": "markdown",
   "metadata": {},
   "source": [
    "### Step-4 -- Allow Special Characters"
   ]
  },
  {
   "cell_type": "code",
   "execution_count": 28,
   "metadata": {},
   "outputs": [
    {
     "name": "stdout",
     "output_type": "stream",
     "text": [
      "Please enter your reference ID: Abhi@123$niv\n"
     ]
    }
   ],
   "source": [
    "referenceID_2 = input('Please enter your reference ID: ')"
   ]
  },
  {
   "cell_type": "code",
   "execution_count": 29,
   "metadata": {},
   "outputs": [
    {
     "name": "stdout",
     "output_type": "stream",
     "text": [
      "Your reference ID is valid with special characters !!!\n"
     ]
    }
   ],
   "source": [
    "if isValidExtra(referenceID_2):\n",
    "    print('Your reference ID is valid with special characters !!!')\n",
    "else:\n",
    "    print('Your reference ID is not valid !!!')"
   ]
  },
  {
   "cell_type": "code",
   "execution_count": 30,
   "metadata": {},
   "outputs": [
    {
     "name": "stdout",
     "output_type": "stream",
     "text": [
      "Your Encrypted Reference ID: b'QWJoaUAxMjMkbml2'\n"
     ]
    }
   ],
   "source": [
    "display(referenceID_2)"
   ]
  },
  {
   "cell_type": "markdown",
   "metadata": {},
   "source": [
    "### Step-5 -- Decrypt Your Reference ID"
   ]
  },
  {
   "cell_type": "code",
   "execution_count": 31,
   "metadata": {
    "collapsed": true
   },
   "outputs": [],
   "source": [
    "encryptedID_2 = encryptYourID(referenceID_2)"
   ]
  },
  {
   "cell_type": "code",
   "execution_count": 32,
   "metadata": {},
   "outputs": [
    {
     "name": "stdout",
     "output_type": "stream",
     "text": [
      "Do you want to decrypt your reference ID? Y\n",
      "Abhi@123$niv\n"
     ]
    }
   ],
   "source": [
    "choice = input('Do you want to decrypt your reference ID? ')\n",
    "\n",
    "if (choice in ['Y', 'y', 'yes', 'Yes', 'YES']):\n",
    "    decryptedID_2 = decryptYourID(encryptedID_2)\n",
    "    print(decryptedID_2)"
   ]
  },
  {
   "cell_type": "code",
   "execution_count": null,
   "metadata": {
    "collapsed": true
   },
   "outputs": [],
   "source": []
  }
 ],
 "metadata": {
  "kernelspec": {
   "display_name": "Python 3",
   "language": "python",
   "name": "python3"
  },
  "language_info": {
   "codemirror_mode": {
    "name": "ipython",
    "version": 3
   },
   "file_extension": ".py",
   "mimetype": "text/x-python",
   "name": "python",
   "nbconvert_exporter": "python",
   "pygments_lexer": "ipython3",
   "version": "3.6.3"
  }
 },
 "nbformat": 4,
 "nbformat_minor": 2
}
